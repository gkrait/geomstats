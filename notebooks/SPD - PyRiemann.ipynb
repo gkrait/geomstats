{
 "cells": [
  {
   "cell_type": "code",
   "execution_count": 1,
   "metadata": {},
   "outputs": [],
   "source": [
    "import os\n",
    "os.environ[\"OMP_NUM_THREADS\"] = \"1\""
   ]
  },
  {
   "cell_type": "code",
   "execution_count": 2,
   "metadata": {},
   "outputs": [],
   "source": [
    "import sys\n",
    "sys.path.append('/Users/nicolasguigui/gits/geomstats')"
   ]
  },
  {
   "cell_type": "code",
   "execution_count": null,
   "metadata": {},
   "outputs": [],
   "source": [
    "import pandas as pd\n",
    "from time import time\n",
    "from nilearn.connectome.connectivity_matrices import _geometric_mean\n",
    "from pyriemann.utils.mean import mean_riemann"
   ]
  },
  {
   "cell_type": "code",
   "execution_count": null,
   "metadata": {},
   "outputs": [],
   "source": [
    "import geomstats.backend as gs\n",
    "from geomstats.geometry.spd_matrices import SPDMatrices, SPDMetricAffine, SPDMetricBuresWasserstein\n",
    "from geomstats.learning.frechet_mean import FrechetMean"
   ]
  },
  {
   "cell_type": "markdown",
   "metadata": {},
   "source": [
    "Let's use geomstats to sample random matrices"
   ]
  },
  {
   "cell_type": "code",
   "execution_count": null,
   "metadata": {},
   "outputs": [],
   "source": [
    "n_points = 100\n",
    "dim = 10\n",
    "\n",
    "space = SPDMatrices(dim)\n",
    "data = space.random_point(n_samples=n_points)"
   ]
  },
  {
   "cell_type": "markdown",
   "metadata": {},
   "source": [
    "We now use geomstats' affine-invariant (AI) metric to compute the Fréchet mean"
   ]
  },
  {
   "cell_type": "code",
   "execution_count": null,
   "metadata": {},
   "outputs": [],
   "source": [
    "metric = SPDMetricAffine(dim)\n",
    "mean = FrechetMean(\n",
    "    metric=metric, method='adaptive',\n",
    "    max_iter=1000, verbose=True, epsilon=1e-12, lr=1.)\n",
    "mean.fit(data)\n",
    "geomstats_mean = mean.estimate_"
   ]
  },
  {
   "cell_type": "markdown",
   "metadata": {},
   "source": [
    "The same can be done with Nilearn and PyRiemann"
   ]
  },
  {
   "cell_type": "code",
   "execution_count": null,
   "metadata": {},
   "outputs": [],
   "source": [
    "nilearn_mean = _geometric_mean(data, max_iter=1000, tol=1e-12)\n",
    "pyriemann_mean = mean_riemann(data, maxiter=1000, tol=1e-12)"
   ]
  },
  {
   "cell_type": "markdown",
   "metadata": {},
   "source": [
    "We can also compute the mean with the Bures-Wasserstein distance as follows"
   ]
  },
  {
   "cell_type": "code",
   "execution_count": null,
   "metadata": {},
   "outputs": [],
   "source": [
    "metric_bw = SPDMetricBuresWasserstein(dim)\n",
    "mean = FrechetMean(\n",
    "    metric=metric_bw, method='adaptive',\n",
    "    max_iter=1000, verbose=True, epsilon=1e-12, lr=1.)\n",
    "mean.fit(data)\n",
    "geomstats_mean_bw = mean.estimate_"
   ]
  },
  {
   "cell_type": "markdown",
   "metadata": {},
   "source": [
    "We can compare the estimtates (in AI distance)"
   ]
  },
  {
   "cell_type": "code",
   "execution_count": null,
   "metadata": {},
   "outputs": [],
   "source": [
    "distances = metric.dist_pairwise(\n",
    "    gs.stack([geomstats_mean, nilearn_mean, pyriemann_mean, geomstats_mean_bw]))\n",
    "print(distances)"
   ]
  },
  {
   "cell_type": "markdown",
   "metadata": {},
   "source": [
    "Let's benchmark for many dimensions/number of points (this may take a while)"
   ]
  },
  {
   "cell_type": "code",
   "execution_count": null,
   "metadata": {
    "scrolled": false
   },
   "outputs": [],
   "source": [
    "gs.random.seed(0)\n",
    "df = pd.DataFrame(\n",
    "    columns=['dim', 'n_points', 'geomstats adaptive', 'geomstats default',\n",
    "             'nilearn', 'pyriemann'])\n",
    "\n",
    "for dim in [3, 5, 10, 20, 30, 40, 50, 60]:\n",
    "    for n_points in [10, 100, 500]:\n",
    "        dico = {\n",
    "            'dim': dim, 'n_points': n_points}\n",
    "        space = SPDMatrices(dim)\n",
    "        data = space.random_point(n_samples=n_points)\n",
    "\n",
    "        metric = SPDMetricAffine(dim)\n",
    "        mean = FrechetMean(\n",
    "            metric=metric, method='adaptive',\n",
    "            max_iter=1000, verbose=False, epsilon=1e-12, lr=1.)\n",
    "        s = time()\n",
    "        mean.fit(data)\n",
    "        dico['geomstats adaptive'] = time() - s\n",
    "        mean_adaptive = mean.estimate_\n",
    "\n",
    "        mean = FrechetMean(\n",
    "            metric=metric, method='default', point_type='matrix',\n",
    "            max_iter=1000, verbose=False, epsilon=1e-12, lr=1.)\n",
    "        s = time()\n",
    "        mean.fit(data)\n",
    "        dico['geomstats default'] = time() - s\n",
    "        mean_default = mean.estimate_\n",
    "\n",
    "        s = time()\n",
    "        nilearn_mean = _geometric_mean(data, max_iter=1000, tol=1e-12)\n",
    "        dico['nilearn'] = time() - s\n",
    "        s = time()\n",
    "        pyriemann_mean = mean_riemann(data, maxiter=1000, tol=1e-12)\n",
    "        dico['pyriemann'] = time() - s\n",
    "\n",
    "        df = df.append(dico, ignore_index=True)\n",
    "\n",
    "index = pd.MultiIndex.from_product(\n",
    "    [[3, 5, 10, 20, 30, 40, 50, 60, 100], [10, 100, 500]],\n",
    "    names=['dim', 'n_points'])\n",
    "df.index = index"
   ]
  },
  {
   "cell_type": "code",
   "execution_count": null,
   "metadata": {},
   "outputs": [],
   "source": [
    "df"
   ]
  },
  {
   "cell_type": "code",
   "execution_count": null,
   "metadata": {},
   "outputs": [],
   "source": []
  }
 ],
 "metadata": {
  "kernelspec": {
   "display_name": "Python 3",
   "language": "python",
   "name": "python3"
  },
  "language_info": {
   "codemirror_mode": {
    "name": "ipython",
    "version": 3
   },
   "file_extension": ".py",
   "mimetype": "text/x-python",
   "name": "python",
   "nbconvert_exporter": "python",
   "pygments_lexer": "ipython3",
   "version": "3.7.6"
  }
 },
 "nbformat": 4,
 "nbformat_minor": 4
}
